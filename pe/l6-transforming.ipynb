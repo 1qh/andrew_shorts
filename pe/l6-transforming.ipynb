{
 "cells": [
  {
   "cell_type": "code",
   "execution_count": null,
   "id": "41df0348",
   "metadata": {
    "height": 132,
    "tags": []
   },
   "outputs": [],
   "source": [
    "import openai\n",
    "import os\n",
    "\n",
    "from dotenv import load_dotenv, find_dotenv\n",
    "\n",
    "_ = load_dotenv(find_dotenv())  # read local .env file\n",
    "\n",
    "openai.api_key = os.getenv('OPENAI_API_KEY')"
   ]
  },
  {
   "cell_type": "code",
   "execution_count": null,
   "id": "6a85ee0f",
   "metadata": {
    "height": 149,
    "tags": []
   },
   "outputs": [],
   "source": [
    "def get_completion(prompt, model=\"gpt-3.5-turbo\", temperature=0):\n",
    "    messages = [{\"role\": \"user\", \"content\": prompt}]\n",
    "    response = openai.ChatCompletion.create(\n",
    "        model=model,\n",
    "        messages=messages,\n",
    "        temperature=temperature,\n",
    "    )\n",
    "    return response.choices[0].message[\"content\"]"
   ]
  },
  {
   "cell_type": "code",
   "execution_count": null,
   "id": "9c4df6ff",
   "metadata": {
    "height": 115,
    "tags": []
   },
   "outputs": [],
   "source": [
    "prompt = f\"\"\"\n",
    "Translate the following English text to Spanish: \\ \n",
    "```Hi, I would like to order a blender```\n",
    "\"\"\"\n",
    "response = get_completion(prompt)\n",
    "print(response)"
   ]
  },
  {
   "attachments": {},
   "cell_type": "markdown",
   "id": "946b3dee",
   "metadata": {},
   "source": [
    "```\n",
    "Hola, me gustaría ordenar una licuadora.\n",
    "```\n"
   ]
  },
  {
   "cell_type": "code",
   "execution_count": null,
   "id": "7300ed9b",
   "metadata": {
    "height": 115,
    "tags": []
   },
   "outputs": [],
   "source": [
    "prompt = f\"\"\"\n",
    "Tell me which language this is: \n",
    "```Combien coûte le lampadaire?```\n",
    "\"\"\"\n",
    "response = get_completion(prompt)\n",
    "print(response)"
   ]
  },
  {
   "attachments": {},
   "cell_type": "markdown",
   "id": "8ef59c29",
   "metadata": {},
   "source": [
    "```\n",
    "This language is French.\n",
    "```\n"
   ]
  },
  {
   "cell_type": "code",
   "execution_count": null,
   "id": "791e789b",
   "metadata": {
    "height": 132,
    "tags": []
   },
   "outputs": [],
   "source": [
    "prompt = f\"\"\"\n",
    "Translate the following  text to French and Spanish\n",
    "and English pirate: \\\n",
    "```I want to order a basketball```\n",
    "\"\"\"\n",
    "response = get_completion(prompt)\n",
    "print(response)"
   ]
  },
  {
   "attachments": {},
   "cell_type": "markdown",
   "id": "76672f86",
   "metadata": {},
   "source": [
    "````\n",
    "French: ```Je veux commander un ballon de basket```\n",
    "Spanish: ```Quiero ordenar una pelota de baloncesto```\n",
    "English: ```I want to order a basketball```\n",
    "````\n"
   ]
  },
  {
   "cell_type": "code",
   "execution_count": null,
   "id": "fcf7eb63",
   "metadata": {
    "height": 132,
    "tags": []
   },
   "outputs": [],
   "source": [
    "prompt = f\"\"\"\n",
    "Translate the following text to Spanish in both the \\\n",
    "formal and informal forms: \n",
    "'Would you like to order a pillow?'\n",
    "\"\"\"\n",
    "response = get_completion(prompt)\n",
    "print(response)"
   ]
  },
  {
   "attachments": {},
   "cell_type": "markdown",
   "id": "c635dc82",
   "metadata": {},
   "source": [
    "```\n",
    "Formal: ¿Le gustaría ordenar una almohada?\n",
    "Informal: ¿Te gustaría ordenar una almohada?\n",
    "```\n"
   ]
  },
  {
   "attachments": {},
   "cell_type": "markdown",
   "id": "8edb56d2-a32a-470f-9f40-4fc5b1ea0849",
   "metadata": {
    "id": "-hN2bczQrRC1"
   },
   "source": [
    "### Universal Translator\n",
    "\n",
    "Imagine you are in charge of IT at a large multinational e-commerce company. Users are messaging you with IT issues in all their native languages. Your staff is from all over the world and speaks only their native languages. You need a universal translator!\n"
   ]
  },
  {
   "cell_type": "code",
   "execution_count": null,
   "id": "68a40bf0",
   "metadata": {
    "height": 132,
    "tags": []
   },
   "outputs": [],
   "source": [
    "user_messages = [\n",
    "    \"La performance du système est plus lente que d'habitude.\",  # System performance is slower than normal\n",
    "    \"Mi monitor tiene píxeles que no se iluminan.\",  # My monitor has pixels that are not lighting\n",
    "    \"Il mio mouse non funziona\",  # My mouse is not working\n",
    "    \"Mój klawisz Ctrl jest zepsuty\",  # My keyboard has a broken control key\n",
    "    \"我的屏幕在闪烁\",  # My screen is flashing\n",
    "]"
   ]
  },
  {
   "cell_type": "code",
   "execution_count": null,
   "id": "552d0db9",
   "metadata": {
    "height": 200,
    "tags": []
   },
   "outputs": [],
   "source": [
    "for issue in user_messages:\n",
    "    prompt = f\"Tell me what language this is: ```{issue}```\"\n",
    "    lang = get_completion(prompt)\n",
    "    print(f\"Original message ({lang}): {issue}\")\n",
    "\n",
    "    prompt = f\"\"\"\n",
    "    Translate the following  text to English \\\n",
    "    and Korean: ```{issue}```\n",
    "    \"\"\"\n",
    "    response = get_completion(prompt)\n",
    "    print(response, \"\\n\")"
   ]
  },
  {
   "attachments": {},
   "cell_type": "markdown",
   "id": "1aaf7c37",
   "metadata": {},
   "source": [
    "```\n",
    "Original message (The language is French.): La performance du système est plus lente que d'habitude.\n",
    "The performance of the system is slower than usual.\n",
    "\n",
    "시스템의 성능이 평소보다 느립니다.\n",
    "\n",
    "Original message (The language is Spanish.): Mi monitor tiene píxeles que no se iluminan.\n",
    "English: \"My monitor has pixels that do not light up.\"\n",
    "\n",
    "Korean: \"내 모니터에는 밝아지지 않는 픽셀이 있습니다.\"\n",
    "\n",
    "Original message (The language is Italian.): Il mio mouse non funziona\n",
    "English: \"My mouse is not working.\"\n",
    "Korean: \"내 마우스가 작동하지 않습니다.\"\n",
    "\n",
    "Original message (The language is Polish.): Mój klawisz Ctrl jest zepsuty\n",
    "English: \"My Ctrl key is broken\"\n",
    "Korean: \"내 Ctrl 키가 고장 났어요\"\n",
    "\n",
    "Original message (The language is Chinese.): 我的屏幕在闪烁\n",
    "English: My screen is flickering.\n",
    "Korean: 내 화면이 깜박거립니다.\n",
    "```\n"
   ]
  },
  {
   "attachments": {},
   "cell_type": "markdown",
   "id": "1d9e54ca-f93a-43c8-a295-bff7a89f77f5",
   "metadata": {
    "id": "JH3-0vdjsILh"
   },
   "source": [
    "## Tone Transformation\n",
    "\n",
    "Writing can vary based on the intended audience. ChatGPT can produce different tones.\n"
   ]
  },
  {
   "cell_type": "code",
   "execution_count": null,
   "id": "2deac328",
   "metadata": {
    "height": 115,
    "tags": []
   },
   "outputs": [],
   "source": [
    "prompt = f\"\"\"\n",
    "Translate the following from slang to a business letter: \n",
    "'Dude, This is Joe, check out this spec on this standing lamp.'\n",
    "\"\"\"\n",
    "response = get_completion(prompt)\n",
    "print(response)"
   ]
  },
  {
   "attachments": {},
   "cell_type": "markdown",
   "id": "d4bc14d5",
   "metadata": {},
   "source": [
    "Dear Sir/Madam,\n",
    "\n",
    "I hope this letter finds you well. My name is Joe, and I am writing to bring your attention to a specification document regarding a standing lamp.\n",
    "\n",
    "I kindly request that you take a moment to review the attached spec, as it contains important details about the standing lamp in question.\n",
    "\n",
    "Thank you for your time and consideration. I look forward to hearing from you soon.\n",
    "\n",
    "Sincerely,\n",
    "Joe\n"
   ]
  },
  {
   "attachments": {},
   "cell_type": "markdown",
   "id": "a2c7eb73-6b82-442d-b4f8-251c308e89d5",
   "metadata": {
    "id": "p3e9sZh5tWIa"
   },
   "source": [
    "## Format Conversion\n",
    "\n",
    "ChatGPT can translate between formats. The prompt should describe the input and output formats.\n"
   ]
  },
  {
   "cell_type": "code",
   "execution_count": null,
   "id": "5a37f0a0",
   "metadata": {
    "height": 217,
    "tags": []
   },
   "outputs": [],
   "source": [
    "data_json = {\n",
    "    \"resturant employees\": [\n",
    "        {\"name\": \"Shyam\", \"email\": \"shyamjaiswal@gmail.com\"},\n",
    "        {\"name\": \"Bob\", \"email\": \"bob32@gmail.com\"},\n",
    "        {\"name\": \"Jai\", \"email\": \"jai87@gmail.com\"},\n",
    "    ]\n",
    "}\n",
    "\n",
    "prompt = f\"\"\"\n",
    "Translate the following python dictionary from JSON to an HTML \\\n",
    "table with column headers and title: {data_json}\n",
    "\"\"\"\n",
    "response = get_completion(prompt)\n",
    "print(response)"
   ]
  },
  {
   "attachments": {},
   "cell_type": "markdown",
   "id": "8a328c0e",
   "metadata": {},
   "source": [
    "```html\n",
    "<!DOCTYPE html>\n",
    "<html>\n",
    "  <head>\n",
    "    <style>\n",
    "      table {\n",
    "        font-family: arial, sans-serif;\n",
    "        border-collapse: collapse;\n",
    "        width: 100%;\n",
    "      }\n",
    "\n",
    "      td,\n",
    "      th {\n",
    "        border: 1px solid #dddddd;\n",
    "        text-align: left;\n",
    "        padding: 8px;\n",
    "      }\n",
    "\n",
    "      tr:nth-child(even) {\n",
    "        background-color: #dddddd;\n",
    "      }\n",
    "    </style>\n",
    "  </head>\n",
    "  <body>\n",
    "    <h2>Restaurant Employees</h2>\n",
    "\n",
    "    <table>\n",
    "      <tr>\n",
    "        <th>Name</th>\n",
    "        <th>Email</th>\n",
    "      </tr>\n",
    "      <tr>\n",
    "        <td>Shyam</td>\n",
    "        <td>shyamjaiswal@gmail.com</td>\n",
    "      </tr>\n",
    "      <tr>\n",
    "        <td>Bob</td>\n",
    "        <td>bob32@gmail.com</td>\n",
    "      </tr>\n",
    "      <tr>\n",
    "        <td>Jai</td>\n",
    "        <td>jai87@gmail.com</td>\n",
    "      </tr>\n",
    "    </table>\n",
    "  </body>\n",
    "</html>\n",
    "```\n"
   ]
  },
  {
   "cell_type": "code",
   "execution_count": null,
   "id": "481a46b7",
   "metadata": {
    "height": 47,
    "tags": []
   },
   "outputs": [],
   "source": [
    "from IPython.display import display, Markdown, Latex, HTML, JSON\n",
    "\n",
    "display(HTML(response))"
   ]
  },
  {
   "attachments": {},
   "cell_type": "markdown",
   "id": "2df1824c-534b-45cb-b0c1-3000bba5adbe",
   "metadata": {
    "id": "qLTz16qEzyT_"
   },
   "source": [
    "## Spellcheck/Grammar check.\n",
    "\n",
    "Here are some examples of common grammar and spelling problems and the LLM's response.\n",
    "\n",
    "To signal to the LLM that you want it to proofread your text, you instruct the model to 'proofread' or 'proofread and correct'.\n"
   ]
  },
  {
   "cell_type": "code",
   "execution_count": null,
   "id": "52d77283",
   "metadata": {
    "height": 302,
    "tags": []
   },
   "outputs": [],
   "source": [
    "text = [\n",
    "    \"The girl with the black and white puppies have a ball.\",  # The girl has a ball.\n",
    "    \"Yolanda has her notebook.\",  # ok\n",
    "    \"Its going to be a long day. Does the car need it’s oil changed?\",  # Homonyms\n",
    "    \"Their goes my freedom. There going to bring they’re suitcases.\",  # Homonyms\n",
    "    \"Your going to need you’re notebook.\",  # Homonyms\n",
    "    \"That medicine effects my ability to sleep. Have you heard of the butterfly affect?\",  # Homonyms\n",
    "    \"This phrase is to cherck chatGPT for speling abilitty\",  # spelling\n",
    "]\n",
    "for t in text:\n",
    "    prompt = f\"\"\"Proofread and correct the following text\n",
    "    and rewrite the corrected version. If you don't find\n",
    "    and errors, just say \"No errors found\". Don't use \n",
    "    any punctuation around the text:\n",
    "    ```{t}```\"\"\"\n",
    "    response = get_completion(prompt)\n",
    "    print(response)"
   ]
  },
  {
   "attachments": {},
   "cell_type": "markdown",
   "id": "ca9c5e94",
   "metadata": {},
   "source": [
    "```\n",
    "The girl with the black and white puppies has a ball.\n",
    "No errors found.\n",
    "It's going to be a long day. Does the car need its oil changed?\n",
    "There goes my freedom. They're going to bring their suitcases.\n",
    "You're going to need your notebook.\n",
    "That medicine affects my ability to sleep. Have you heard of the butterfly effect?\n",
    "This phrase is to check chatGPT for spelling ability.\n",
    "```\n"
   ]
  },
  {
   "cell_type": "code",
   "execution_count": null,
   "id": "7543fe7d",
   "metadata": {
    "height": 234,
    "tags": []
   },
   "outputs": [],
   "source": [
    "text = f\"\"\"\n",
    "Got this for my daughter for her birthday cuz she keeps taking \\\n",
    "mine from my room.  Yes, adults also like pandas too.  She takes \\\n",
    "it everywhere with her, and it's super soft and cute.  One of the \\\n",
    "ears is a bit lower than the other, and I don't think that was \\\n",
    "designed to be asymmetrical. It's a bit small for what I paid for it \\\n",
    "though. I think there might be other options that are bigger for \\\n",
    "the same price.  It arrived a day earlier than expected, so I got \\\n",
    "to play with it myself before I gave it to my daughter.\n",
    "\"\"\"\n",
    "prompt = f\"proofread and correct this review: ```{text}```\"\n",
    "response = get_completion(prompt)\n",
    "print(response)"
   ]
  },
  {
   "attachments": {},
   "cell_type": "markdown",
   "id": "58bed08b",
   "metadata": {},
   "source": [
    "```\n",
    "Got this for my daughter for her birthday because she keeps taking mine from my room. Yes, adults also like pandas too. She takes it everywhere with her, and it's super soft and cute. However, one of the ears is a bit lower than the other, and I don't think that was designed to be asymmetrical. Additionally, it's a bit small for what I paid for it. I believe there might be other options that are bigger for the same price. On the positive side, it arrived a day earlier than expected, so I got to play with it myself before I gave it to my daughter.\n",
    "```\n"
   ]
  },
  {
   "cell_type": "code",
   "execution_count": null,
   "id": "11ac80a0",
   "metadata": {
    "height": 81,
    "tags": []
   },
   "outputs": [],
   "source": [
    "from redlines import Redlines\n",
    "\n",
    "diff = Redlines(text, response)\n",
    "display(Markdown(diff.output_markdown))"
   ]
  },
  {
   "cell_type": "code",
   "execution_count": null,
   "id": "2b4e73fd",
   "metadata": {
    "height": 149,
    "tags": []
   },
   "outputs": [],
   "source": [
    "prompt = f\"\"\"\n",
    "proofread and correct this review. Make it more compelling. \n",
    "Ensure it follows APA style guide and targets an advanced reader. \n",
    "Output in markdown format.\n",
    "Text: ```{text}```\n",
    "\"\"\"\n",
    "response = get_completion(prompt)\n",
    "display(Markdown(response))"
   ]
  },
  {
   "attachments": {},
   "cell_type": "markdown",
   "id": "3b5206d3",
   "metadata": {},
   "source": [
    "**Title: A Delightful Gift for All Ages: A Review of the Adorable Panda Plush Toy**\n",
    "\n",
    "_Introduction_\n",
    "\n",
    "Purchasing a gift that appeals to both children and adults can be quite a challenge. However, I recently stumbled upon a remarkable solution - the Panda Plush Toy. In this review, I will share my experience with this delightful gift, highlighting its irresistible charm, exceptional softness, and unexpected versatility. While there were a few minor imperfections, the overall quality and prompt delivery exceeded my expectations. Join me as I delve into the enchanting world of this endearing panda companion.\n",
    "\n",
    "_Review_\n",
    "\n",
    "As a parent, I understand the struggle of keeping personal belongings safe from curious little hands. That's why I decided to surprise my daughter with the Panda Plush Toy for her birthday. To my surprise, this adorable companion not only captivated her heart but also managed to capture mine. Its irresistible charm transcends age boundaries, making it a perfect gift for both children and adults alike.\n",
    "\n",
    "The first thing that struck me about this plush toy was its exceptional softness. Crafted with meticulous attention to detail, the plush material envelops you in a cloud of comfort. Its velvety texture is a testament to the superior craftsmanship that went into its creation. I couldn't resist running my fingers through its fur, and I must admit, I found myself snuggling with it more often than I anticipated.\n",
    "\n",
    "While the Panda Plush Toy's symmetrical design is undeniably adorable, I did notice a slight asymmetry in the positioning of its ears. Although this may be an unintentional flaw, it adds a unique touch to the toy's character. However, I believe it is worth mentioning that some individuals may prefer a more symmetrical appearance.\n",
    "\n",
    "In terms of size, I must admit that the Panda Plush Toy is slightly smaller than I had anticipated, considering its price. Although this did not diminish its overall appeal, I couldn't help but wonder if there were larger options available at a similar price point. Nevertheless, its compact size makes it perfect for on-the-go adventures, allowing my daughter to take her new friend everywhere she goes.\n",
    "\n",
    "Lastly, I was pleasantly surprised by the prompt delivery of the Panda Plush Toy. It arrived a day earlier than expected, granting me the opportunity to experience its charm firsthand. This unexpected bonus allowed me to appreciate the toy's exceptional quality and ensured that it was in perfect condition before presenting it to my daughter.\n",
    "\n",
    "_Conclusion_\n",
    "\n",
    "In conclusion, the Panda Plush Toy has proven to be an enchanting gift that transcends age boundaries. Its exceptional softness, undeniable charm, and unexpected versatility make it a delightful companion for both children and adults. While a minor asymmetry in the ears and a slightly smaller size may be worth considering, the overall quality and prompt delivery of this plush toy far exceeded my expectations. If you are seeking a gift that will bring joy and comfort to your loved ones, the Panda Plush Toy is an excellent choice.\n"
   ]
  }
 ],
 "metadata": {
  "kernelspec": {
   "display_name": "Python 3 (ipykernel)",
   "language": "python",
   "name": "python3"
  },
  "language_info": {
   "codemirror_mode": {
    "name": "ipython",
    "version": 3
   },
   "file_extension": ".py",
   "mimetype": "text/x-python",
   "name": "python",
   "nbconvert_exporter": "python",
   "pygments_lexer": "ipython3",
   "version": "3.11.4"
  }
 },
 "nbformat": 4,
 "nbformat_minor": 5
}
